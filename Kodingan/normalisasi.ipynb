{
 "cells": [
  {
   "cell_type": "code",
   "execution_count": 2,
   "metadata": {},
   "outputs": [],
   "source": [
    "import numpy as np\n",
    "\n",
    "# Your original data\n",
    "data = np.array([\n",
    "    8770.37, 8756.47, 8755.61, 8762.12, 8771.08,\n",
    "    8779.52, 8786.24, 8791.13, 8794.57, 8797.07,\n",
    "    8799.05, 8800.81, 8802.52, 8804.26, 8806.04,\n",
    "    8807.87, 8809.72, 8811.58, 8813.43, 8815.27,\n",
    "    8817.08, 8818.87, 8820.63, 8822.36, 8824.07,\n",
    "    8825.75, 8827.39, 8829.02, 8830.61, 8832.18\n",
    "])\n",
    "\n",
    "# Min-Max scaling\n",
    "min_val = np.min(data)\n",
    "max_val = np.max(data)\n",
    "normalized_data = (data - min_val) / (max_val - min_val)\n",
    "\n"
   ]
  },
  {
   "cell_type": "code",
   "execution_count": 3,
   "metadata": {},
   "outputs": [
    {
     "data": {
      "text/plain": [
       "array([0.19276479, 0.01123155, 0.        , 0.08502024, 0.20203735,\n",
       "       0.31226329, 0.40002612, 0.46388925, 0.50881546, 0.54146533,\n",
       "       0.56732402, 0.59030952, 0.61264203, 0.63536633, 0.65861303,\n",
       "       0.68251273, 0.70667363, 0.73096513, 0.75512603, 0.77915633,\n",
       "       0.80279483, 0.82617213, 0.84915763, 0.87175134, 0.89408384,\n",
       "       0.91602455, 0.93744286, 0.95873057, 0.97949589, 1.        ])"
      ]
     },
     "execution_count": 3,
     "metadata": {},
     "output_type": "execute_result"
    }
   ],
   "source": [
    "normalized_data"
   ]
  }
 ],
 "metadata": {
  "kernelspec": {
   "display_name": "Python 3",
   "language": "python",
   "name": "python3"
  },
  "language_info": {
   "codemirror_mode": {
    "name": "ipython",
    "version": 3
   },
   "file_extension": ".py",
   "mimetype": "text/x-python",
   "name": "python",
   "nbconvert_exporter": "python",
   "pygments_lexer": "ipython3",
   "version": "3.11.8"
  }
 },
 "nbformat": 4,
 "nbformat_minor": 2
}
